{
 "cells": [
  {
   "cell_type": "code",
   "execution_count": 1,
   "metadata": {
    "collapsed": true
   },
   "outputs": [],
   "source": [
    "%matplotlib inline"
   ]
  },
  {
   "cell_type": "code",
   "execution_count": 2,
   "metadata": {
    "collapsed": true
   },
   "outputs": [],
   "source": [
    "from glob import glob"
   ]
  },
  {
   "cell_type": "code",
   "execution_count": 3,
   "metadata": {
    "collapsed": true
   },
   "outputs": [],
   "source": [
    "import pandas as pd\n",
    "import numpy as np\n",
    "from matplotlib import pyplot as plt"
   ]
  },
  {
   "cell_type": "code",
   "execution_count": 4,
   "metadata": {
    "collapsed": true
   },
   "outputs": [],
   "source": [
    "from matplotlib import style\n",
    "style.use('seaborn-notebook')"
   ]
  },
  {
   "cell_type": "code",
   "execution_count": 5,
   "metadata": {
    "collapsed": true
   },
   "outputs": [],
   "source": [
    "# l = !ls ../data/hourly_data_nc/"
   ]
  },
  {
   "cell_type": "code",
   "execution_count": 6,
   "metadata": {
    "collapsed": false
   },
   "outputs": [],
   "source": [
    "def make_title(station):\n",
    "    name = geodata.ix[int(station)]['NOM_USUEL']\n",
    "    lon = geodata.ix[int(station)]['LON_DG']\n",
    "    lat = geodata.ix[int(station)]['LAT_DG']\n",
    "    alt = geodata.ix[int(station)]['ALTI']\n",
    "    title = \"{}: [{:4.2f}E / {:4.2f}S], {:4.2f} m.\".format(name, lon, lat, alt)\n",
    "    return lat, lon, title"
   ]
  },
  {
   "cell_type": "code",
   "execution_count": 42,
   "metadata": {
    "collapsed": true
   },
   "outputs": [],
   "source": [
    "def harmo(data, nbharm=2): \n",
    "    import pandas as pd\n",
    "    import numpy as np\n",
    "    if isinstance(data, pd.core.frame.Series) or isinstance(data, pd.core.frame.DataFrame): \n",
    "        index = data.index\n",
    "        data_values = data.values.flatten() \n",
    "    fft=np.fft.rfft(data_values)\n",
    "    fft[nharm+1]=0.5*fft[nharm+1]\n",
    "    fft[nharm+2:]=0\n",
    "    data_f=np.fft.irfft(fft)\n",
    "    if isinstance(data, pd.core.frame.Series): \n",
    "        data_f = pd.Series(data_f, index=index)\n",
    "    if isinstance(data, pd.core.frame.DataFrame):\n",
    "        data_f = pd.DataFrame(data_f, index=index, columns=['Fourier_{}harms'.format(nbharm)])\n",
    "    return data_f"
   ]
  },
  {
   "cell_type": "code",
   "execution_count": 7,
   "metadata": {
    "collapsed": false
   },
   "outputs": [],
   "source": [
    "# for f in l: \n",
    "#     print(\"processing {}\".format(f))\n",
    "#     data = pd.read_csv('../data/hourly_data_nc/{}'.format(f), sep=';', \\\n",
    "#                        header=None, parse_dates = {'date': [1, 2, 3, 4]}, \\\n",
    "#                        index_col='date')\n",
    "#     data.columns = ['station', 'rain', 'code']\n",
    "#     data.to_csv('../data/{}.csv'.format(f[:-4]))\n",
    "#     del(data)"
   ]
  },
  {
   "cell_type": "code",
   "execution_count": 8,
   "metadata": {
    "collapsed": true
   },
   "outputs": [],
   "source": [
    "geodata = pd.read_csv('../data/geo.csv', index_col=0, sep=';')"
   ]
  },
  {
   "cell_type": "code",
   "execution_count": 9,
   "metadata": {
    "collapsed": false
   },
   "outputs": [
    {
     "data": {
      "text/html": [
       "<div>\n",
       "<table border=\"1\" class=\"dataframe\">\n",
       "  <thead>\n",
       "    <tr style=\"text-align: right;\">\n",
       "      <th></th>\n",
       "      <th>NOM_USUEL</th>\n",
       "      <th>LON_DG</th>\n",
       "      <th>LAT_DG</th>\n",
       "      <th>LAMBX_100</th>\n",
       "      <th>LAMBY_100</th>\n",
       "      <th>ALTI</th>\n",
       "    </tr>\n",
       "    <tr>\n",
       "      <th>NUM_POSTE</th>\n",
       "      <th></th>\n",
       "      <th></th>\n",
       "      <th></th>\n",
       "      <th></th>\n",
       "      <th></th>\n",
       "      <th></th>\n",
       "    </tr>\n",
       "  </thead>\n",
       "  <tbody>\n",
       "    <tr>\n",
       "      <th>98827002</th>\n",
       "      <td>NEPOUI</td>\n",
       "      <td>165.002167</td>\n",
       "      <td>-21.318167</td>\n",
       "      <td>2964.85</td>\n",
       "      <td>3197.99</td>\n",
       "      <td>82</td>\n",
       "    </tr>\n",
       "  </tbody>\n",
       "</table>\n",
       "</div>"
      ],
      "text/plain": [
       "          NOM_USUEL      LON_DG     LAT_DG  LAMBX_100  LAMBY_100  ALTI\n",
       "NUM_POSTE                                                             \n",
       "98827002     NEPOUI  165.002167 -21.318167    2964.85    3197.99    82"
      ]
     },
     "execution_count": 9,
     "metadata": {},
     "output_type": "execute_result"
    }
   ],
   "source": [
    "geodata[geodata.NOM_USUEL == 'NEPOUI']"
   ]
  },
  {
   "cell_type": "code",
   "execution_count": 10,
   "metadata": {
    "collapsed": true
   },
   "outputs": [],
   "source": [
    "lfiles = glob('../data/98*.csv')"
   ]
  },
  {
   "cell_type": "code",
   "execution_count": 11,
   "metadata": {
    "collapsed": true
   },
   "outputs": [],
   "source": [
    "w = 6\n",
    "h = 4 \n",
    "res = 80"
   ]
  },
  {
   "cell_type": "code",
   "execution_count": 12,
   "metadata": {
    "collapsed": false
   },
   "outputs": [
    {
     "data": {
      "text/plain": [
       "'../data/98827002.csv'"
      ]
     },
     "execution_count": 12,
     "metadata": {},
     "output_type": "execute_result"
    }
   ],
   "source": [
    "lfiles[-7]"
   ]
  },
  {
   "cell_type": "code",
   "execution_count": 13,
   "metadata": {
    "collapsed": true
   },
   "outputs": [],
   "source": [
    "!open ./98827002.png"
   ]
  },
  {
   "cell_type": "code",
   "execution_count": 46,
   "metadata": {
    "collapsed": false
   },
   "outputs": [
    {
     "data": {
      "image/png": "[encoded data removed]",
      "text/plain": [
       "<matplotlib.figure.Figure at 0x106834588>"
      ]
     },
     "metadata": {},
     "output_type": "display_data"
    }
   ],
   "source": [
    "f = lfiles[-7]\n",
    "station = f.split('/')[-1][:-4]\n",
    "lat, lon, title = make_title(station)\n",
    "data = pd.read_csv(f, parse_dates=True, engine='python', index_col='date')\n",
    "datan = data.copy()\n",
    "datan.replace({'rain': {0: np.nan}}, inplace=True)\n",
    "# datan.dropna(inplace=True)\n",
    "# rainfall frequency per hour (count of non-zero rainfall)\n",
    "freq_cycle = datan.groupby(datan.index.hour)[['rain']].count() / len(datan.dropna()) * 100\n",
    "freq_cycle_f = harmo(freq_cycle)\n",
    "# rainfall average per hour\n",
    "datann = datan.dropna()\n",
    "mean_cycle = datann.groupby(datann.index.hour)[['rain']].mean()\n",
    "mean_cycle_f = harmo(mean_cycle)\n",
    "# plots\n",
    "fig, ax1 = plt.subplots(figsize=(w,h))\n",
    "fig.subplots_adjust(right=0.85)\n",
    "ax2 = ax1.twinx()\n",
    "ax1.plot(freq_cycle_f, 'r', label='frequency', lw=3)\n",
    "ax2.plot(mean_cycle_f, 'b', label='intensity', lw=3)\n",
    "ax1.plot(freq_cycle, 'r--', lw=1)\n",
    "ax2.plot(mean_cycle_f, 'b--', lw=1)\n",
    "ax1.legend()\n",
    "ax2.legend(loc=4)\n",
    "ax1.set_ylabel('frequency (%)')\n",
    "ax2.set_ylabel('intensity (mm)')\n",
    "ax1.set_xlim(0,23)\n",
    "ax1.set_xlabel('hour')\n",
    "ax1.set_title(title)\n",
    "fig.savefig('./{}.png'.format(station), dpi=res)"
   ]
  },
  {
   "cell_type": "code",
   "execution_count": 25,
   "metadata": {
    "collapsed": false
   },
   "outputs": [
    {
     "data": {
      "text/plain": [
       "True"
      ]
     },
     "execution_count": 25,
     "metadata": {},
     "output_type": "execute_result"
    }
   ],
   "source": [
    "isinstance(freq_cycle['rain'], pd.core.frame.Series)"
   ]
  },
  {
   "cell_type": "code",
   "execution_count": 24,
   "metadata": {
    "collapsed": false
   },
   "outputs": [
    {
     "data": {
      "text/html": [
       "<div>\n",
       "<table border=\"1\" class=\"dataframe\">\n",
       "  <thead>\n",
       "    <tr style=\"text-align: right;\">\n",
       "      <th></th>\n",
       "      <th>rain</th>\n",
       "    </tr>\n",
       "  </thead>\n",
       "  <tbody>\n",
       "    <tr>\n",
       "      <th>0</th>\n",
       "      <td>4.177999</td>\n",
       "    </tr>\n",
       "    <tr>\n",
       "      <th>1</th>\n",
       "      <td>4.110003</td>\n",
       "    </tr>\n",
       "    <tr>\n",
       "      <th>2</th>\n",
       "      <td>4.366878</td>\n",
       "    </tr>\n",
       "    <tr>\n",
       "      <th>3</th>\n",
       "      <td>4.502871</td>\n",
       "    </tr>\n",
       "    <tr>\n",
       "      <th>4</th>\n",
       "      <td>4.578422</td>\n",
       "    </tr>\n",
       "    <tr>\n",
       "      <th>5</th>\n",
       "      <td>4.820187</td>\n",
       "    </tr>\n",
       "    <tr>\n",
       "      <th>6</th>\n",
       "      <td>4.956180</td>\n",
       "    </tr>\n",
       "    <tr>\n",
       "      <th>7</th>\n",
       "      <td>4.495316</td>\n",
       "    </tr>\n",
       "    <tr>\n",
       "      <th>8</th>\n",
       "      <td>3.233605</td>\n",
       "    </tr>\n",
       "    <tr>\n",
       "      <th>9</th>\n",
       "      <td>3.044727</td>\n",
       "    </tr>\n",
       "    <tr>\n",
       "      <th>10</th>\n",
       "      <td>2.923844</td>\n",
       "    </tr>\n",
       "    <tr>\n",
       "      <th>11</th>\n",
       "      <td>3.218495</td>\n",
       "    </tr>\n",
       "    <tr>\n",
       "      <th>12</th>\n",
       "      <td>3.460260</td>\n",
       "    </tr>\n",
       "    <tr>\n",
       "      <th>13</th>\n",
       "      <td>3.543367</td>\n",
       "    </tr>\n",
       "    <tr>\n",
       "      <th>14</th>\n",
       "      <td>3.943790</td>\n",
       "    </tr>\n",
       "    <tr>\n",
       "      <th>15</th>\n",
       "      <td>4.042007</td>\n",
       "    </tr>\n",
       "    <tr>\n",
       "      <th>16</th>\n",
       "      <td>4.495316</td>\n",
       "    </tr>\n",
       "    <tr>\n",
       "      <th>17</th>\n",
       "      <td>4.850408</td>\n",
       "    </tr>\n",
       "    <tr>\n",
       "      <th>18</th>\n",
       "      <td>4.850408</td>\n",
       "    </tr>\n",
       "    <tr>\n",
       "      <th>19</th>\n",
       "      <td>4.827743</td>\n",
       "    </tr>\n",
       "    <tr>\n",
       "      <th>20</th>\n",
       "      <td>4.525536</td>\n",
       "    </tr>\n",
       "    <tr>\n",
       "      <th>21</th>\n",
       "      <td>4.465095</td>\n",
       "    </tr>\n",
       "    <tr>\n",
       "      <th>22</th>\n",
       "      <td>4.404654</td>\n",
       "    </tr>\n",
       "    <tr>\n",
       "      <th>23</th>\n",
       "      <td>4.162889</td>\n",
       "    </tr>\n",
       "  </tbody>\n",
       "</table>\n",
       "</div>"
      ],
      "text/plain": [
       "        rain\n",
       "0   4.177999\n",
       "1   4.110003\n",
       "2   4.366878\n",
       "3   4.502871\n",
       "4   4.578422\n",
       "5   4.820187\n",
       "6   4.956180\n",
       "7   4.495316\n",
       "8   3.233605\n",
       "9   3.044727\n",
       "10  2.923844\n",
       "11  3.218495\n",
       "12  3.460260\n",
       "13  3.543367\n",
       "14  3.943790\n",
       "15  4.042007\n",
       "16  4.495316\n",
       "17  4.850408\n",
       "18  4.850408\n",
       "19  4.827743\n",
       "20  4.525536\n",
       "21  4.465095\n",
       "22  4.404654\n",
       "23  4.162889"
      ]
     },
     "execution_count": 24,
     "metadata": {},
     "output_type": "execute_result"
    }
   ],
   "source": [
    "freq_cycle"
   ]
  },
  {
   "cell_type": "code",
   "execution_count": null,
   "metadata": {
    "collapsed": true
   },
   "outputs": [],
   "source": []
  },
  {
   "cell_type": "code",
   "execution_count": 41,
   "metadata": {
    "collapsed": false
   },
   "outputs": [
    {
     "name": "stdout",
     "output_type": "stream",
     "text": [
      "Writing /Users/nicolasf/pythonlibs/time_utils/harmo.py\n"
     ]
    }
   ],
   "source": [
    "# %%writefile /Users/nicolasf/pythonlibs/time_utils/harmo.py\n",
    "def harmo(data, nbharm=2): \n",
    "    import pandas as pd\n",
    "    import numpy as np\n",
    "    if isinstance(data, pd.core.frame.Series) or isinstance(data, pd.core.frame.DataFrame): \n",
    "        index = data.index\n",
    "        data_values = data.values.flatten() \n",
    "    fft=np.fft.rfft(data_values)\n",
    "    fft[nharm+1]=0.5*fft[nharm+1]\n",
    "    fft[nharm+2:]=0\n",
    "    data_f=np.fft.irfft(fft)\n",
    "    if isinstance(data, pd.core.frame.Series): \n",
    "        data_f = pd.Series(data_f, index=index)\n",
    "    if isinstance(data, pd.core.frame.DataFrame):\n",
    "        data_f = pd.DataFrame(data_f, index=index, columns=['Fourier_{}harms'.format(nbharm)])\n",
    "    return data_f"
   ]
  },
  {
   "cell_type": "code",
   "execution_count": 15,
   "metadata": {
    "collapsed": false
   },
   "outputs": [
    {
     "data": {
      "text/plain": [
       "<matplotlib.axes._subplots.AxesSubplot at 0x114793240>"
      ]
     },
     "execution_count": 15,
     "metadata": {},
     "output_type": "execute_result"
    },
    {
     "data": {
      "image/png": "[encoded data removed]",
      "text/plain": [
       "<matplotlib.figure.Figure at 0x1147936d8>"
      ]
     },
     "metadata": {},
     "output_type": "display_data"
    }
   ],
   "source": [
    "datan['rain'].pipe(pd.rolling_mean,3).plot()"
   ]
  },
  {
   "cell_type": "code",
   "execution_count": 16,
   "metadata": {
    "collapsed": false
   },
   "outputs": [],
   "source": [
    "freq_cycle = datan.groupby([datan.index.month, datan.index.hour])[['rain']].count()"
   ]
  },
  {
   "cell_type": "code",
   "execution_count": 17,
   "metadata": {
    "collapsed": true
   },
   "outputs": [],
   "source": [
    "mean_cycle = datan.groupby([datan.index.month, datan.index.hour])[['rain']].mean()"
   ]
  },
  {
   "cell_type": "code",
   "execution_count": 18,
   "metadata": {
    "collapsed": false
   },
   "outputs": [],
   "source": [
    "mean_cycler = pd.rolling_sum(data[['rain']], 3).groupby([datan.index.month, datan.index.hour])[['rain']].mean()"
   ]
  },
  {
   "cell_type": "code",
   "execution_count": 19,
   "metadata": {
    "collapsed": false
   },
   "outputs": [],
   "source": [
    "import seaborn as sns"
   ]
  },
  {
   "cell_type": "code",
   "execution_count": 20,
   "metadata": {
    "collapsed": false
   },
   "outputs": [
    {
     "data": {
      "text/plain": [
       "<matplotlib.axes._subplots.AxesSubplot at 0x11d145a90>"
      ]
     },
     "execution_count": 20,
     "metadata": {},
     "output_type": "execute_result"
    },
    {
     "data": {
      "image/png": "[encoded data removed]",
      "text/plain": [
       "<matplotlib.figure.Figure at 0x11d0f8ba8>"
      ]
     },
     "metadata": {},
     "output_type": "display_data"
    }
   ],
   "source": [
    "sns.heatmap(mean_cycle.unstack(), cmap=plt.get_cmap('jet'))"
   ]
  },
  {
   "cell_type": "code",
   "execution_count": 21,
   "metadata": {
    "collapsed": false
   },
   "outputs": [
    {
     "data": {
      "text/plain": [
       "<matplotlib.axes._subplots.AxesSubplot at 0x11d1ddb70>"
      ]
     },
     "execution_count": 21,
     "metadata": {},
     "output_type": "execute_result"
    },
    {
     "data": {
      "image/png": "[encoded data removed]",
      "text/plain": [
       "<matplotlib.figure.Figure at 0x11d1f5c18>"
      ]
     },
     "metadata": {},
     "output_type": "display_data"
    }
   ],
   "source": [
    "sns.heatmap(mean_cycler.unstack(), cmap=plt.get_cmap('jet'))"
   ]
  },
  {
   "cell_type": "code",
   "execution_count": 22,
   "metadata": {
    "collapsed": false
   },
   "outputs": [
    {
     "data": {
      "text/plain": [
       "<matplotlib.axes._subplots.AxesSubplot at 0x11d2377b8>"
      ]
     },
     "execution_count": 22,
     "metadata": {},
     "output_type": "execute_result"
    },
    {
     "data": {
      "image/png": "[encoded data removed]",
      "text/plain": [
       "<matplotlib.figure.Figure at 0x11d248c88>"
      ]
     },
     "metadata": {},
     "output_type": "display_data"
    }
   ],
   "source": [
    "sns.heatmap(freq_cycle.unstack(), cmap=plt.get_cmap('jet'))"
   ]
  },
  {
   "cell_type": "code",
   "execution_count": 23,
   "metadata": {
    "collapsed": false
   },
   "outputs": [
    {
     "data": {
      "text/plain": [
       "<matplotlib.axes._subplots.AxesSubplot at 0x11d38b908>"
      ]
     },
     "execution_count": 23,
     "metadata": {},
     "output_type": "execute_result"
    },
    {
     "data": {
      "image/png": "[encoded data removed]",
      "text/plain": [
       "<matplotlib.figure.Figure at 0x11d3e4ef0>"
      ]
     },
     "metadata": {},
     "output_type": "display_data"
    }
   ],
   "source": [
    "data_month = data.resample('1M',how='sum')\n",
    "data_month.groupby(data_month.index.month)['rain'].mean().plot()"
   ]
  },
  {
   "cell_type": "code",
   "execution_count": 24,
   "metadata": {
    "collapsed": false
   },
   "outputs": [
    {
     "data": {
      "text/plain": [
       "<matplotlib.image.AxesImage at 0x11d5f3630>"
      ]
     },
     "execution_count": 24,
     "metadata": {},
     "output_type": "execute_result"
    },
    {
     "data": {
      "image/png": "[encoded data removed]",
      "text/plain": [
       "<matplotlib.figure.Figure at 0x11d3e8128>"
      ]
     },
     "metadata": {},
     "output_type": "display_data"
    }
   ],
   "source": [
    "plt.imshow(freq_cycle.unstack().values, interpolation='nearest')"
   ]
  },
  {
   "cell_type": "code",
   "execution_count": 25,
   "metadata": {
    "collapsed": false
   },
   "outputs": [
    {
     "data": {
      "text/html": [
       "<div>\n",
       "<table border=\"1\" class=\"dataframe\">\n",
       "  <thead>\n",
       "    <tr>\n",
       "      <th></th>\n",
       "      <th colspan=\"21\" halign=\"left\">rain</th>\n",
       "    </tr>\n",
       "    <tr>\n",
       "      <th></th>\n",
       "      <th>0</th>\n",
       "      <th>1</th>\n",
       "      <th>2</th>\n",
       "      <th>3</th>\n",
       "      <th>4</th>\n",
       "      <th>5</th>\n",
       "      <th>6</th>\n",
       "      <th>7</th>\n",
       "      <th>8</th>\n",
       "      <th>9</th>\n",
       "      <th>...</th>\n",
       "      <th>14</th>\n",
       "      <th>15</th>\n",
       "      <th>16</th>\n",
       "      <th>17</th>\n",
       "      <th>18</th>\n",
       "      <th>19</th>\n",
       "      <th>20</th>\n",
       "      <th>21</th>\n",
       "      <th>22</th>\n",
       "      <th>23</th>\n",
       "    </tr>\n",
       "  </thead>\n",
       "  <tbody>\n",
       "    <tr>\n",
       "      <th>1</th>\n",
       "      <td>56</td>\n",
       "      <td>62</td>\n",
       "      <td>61</td>\n",
       "      <td>56</td>\n",
       "      <td>57</td>\n",
       "      <td>50</td>\n",
       "      <td>59</td>\n",
       "      <td>40</td>\n",
       "      <td>36</td>\n",
       "      <td>44</td>\n",
       "      <td>...</td>\n",
       "      <td>73</td>\n",
       "      <td>78</td>\n",
       "      <td>86</td>\n",
       "      <td>79</td>\n",
       "      <td>77</td>\n",
       "      <td>85</td>\n",
       "      <td>66</td>\n",
       "      <td>68</td>\n",
       "      <td>56</td>\n",
       "      <td>59</td>\n",
       "    </tr>\n",
       "    <tr>\n",
       "      <th>2</th>\n",
       "      <td>43</td>\n",
       "      <td>38</td>\n",
       "      <td>42</td>\n",
       "      <td>44</td>\n",
       "      <td>49</td>\n",
       "      <td>47</td>\n",
       "      <td>56</td>\n",
       "      <td>47</td>\n",
       "      <td>30</td>\n",
       "      <td>34</td>\n",
       "      <td>...</td>\n",
       "      <td>65</td>\n",
       "      <td>65</td>\n",
       "      <td>78</td>\n",
       "      <td>88</td>\n",
       "      <td>71</td>\n",
       "      <td>75</td>\n",
       "      <td>70</td>\n",
       "      <td>61</td>\n",
       "      <td>67</td>\n",
       "      <td>52</td>\n",
       "    </tr>\n",
       "    <tr>\n",
       "      <th>3</th>\n",
       "      <td>70</td>\n",
       "      <td>73</td>\n",
       "      <td>83</td>\n",
       "      <td>87</td>\n",
       "      <td>81</td>\n",
       "      <td>88</td>\n",
       "      <td>84</td>\n",
       "      <td>81</td>\n",
       "      <td>59</td>\n",
       "      <td>52</td>\n",
       "      <td>...</td>\n",
       "      <td>82</td>\n",
       "      <td>76</td>\n",
       "      <td>89</td>\n",
       "      <td>95</td>\n",
       "      <td>103</td>\n",
       "      <td>104</td>\n",
       "      <td>74</td>\n",
       "      <td>78</td>\n",
       "      <td>72</td>\n",
       "      <td>79</td>\n",
       "    </tr>\n",
       "    <tr>\n",
       "      <th>4</th>\n",
       "      <td>46</td>\n",
       "      <td>45</td>\n",
       "      <td>30</td>\n",
       "      <td>38</td>\n",
       "      <td>50</td>\n",
       "      <td>60</td>\n",
       "      <td>64</td>\n",
       "      <td>60</td>\n",
       "      <td>40</td>\n",
       "      <td>34</td>\n",
       "      <td>...</td>\n",
       "      <td>42</td>\n",
       "      <td>41</td>\n",
       "      <td>47</td>\n",
       "      <td>54</td>\n",
       "      <td>53</td>\n",
       "      <td>59</td>\n",
       "      <td>60</td>\n",
       "      <td>59</td>\n",
       "      <td>59</td>\n",
       "      <td>43</td>\n",
       "    </tr>\n",
       "    <tr>\n",
       "      <th>5</th>\n",
       "      <td>56</td>\n",
       "      <td>42</td>\n",
       "      <td>57</td>\n",
       "      <td>54</td>\n",
       "      <td>50</td>\n",
       "      <td>66</td>\n",
       "      <td>58</td>\n",
       "      <td>61</td>\n",
       "      <td>43</td>\n",
       "      <td>42</td>\n",
       "      <td>...</td>\n",
       "      <td>35</td>\n",
       "      <td>40</td>\n",
       "      <td>48</td>\n",
       "      <td>47</td>\n",
       "      <td>50</td>\n",
       "      <td>49</td>\n",
       "      <td>51</td>\n",
       "      <td>54</td>\n",
       "      <td>46</td>\n",
       "      <td>47</td>\n",
       "    </tr>\n",
       "    <tr>\n",
       "      <th>6</th>\n",
       "      <td>60</td>\n",
       "      <td>59</td>\n",
       "      <td>61</td>\n",
       "      <td>74</td>\n",
       "      <td>65</td>\n",
       "      <td>67</td>\n",
       "      <td>73</td>\n",
       "      <td>59</td>\n",
       "      <td>57</td>\n",
       "      <td>45</td>\n",
       "      <td>...</td>\n",
       "      <td>42</td>\n",
       "      <td>45</td>\n",
       "      <td>41</td>\n",
       "      <td>55</td>\n",
       "      <td>59</td>\n",
       "      <td>61</td>\n",
       "      <td>61</td>\n",
       "      <td>54</td>\n",
       "      <td>58</td>\n",
       "      <td>57</td>\n",
       "    </tr>\n",
       "    <tr>\n",
       "      <th>7</th>\n",
       "      <td>46</td>\n",
       "      <td>49</td>\n",
       "      <td>58</td>\n",
       "      <td>51</td>\n",
       "      <td>60</td>\n",
       "      <td>62</td>\n",
       "      <td>55</td>\n",
       "      <td>52</td>\n",
       "      <td>50</td>\n",
       "      <td>37</td>\n",
       "      <td>...</td>\n",
       "      <td>37</td>\n",
       "      <td>36</td>\n",
       "      <td>41</td>\n",
       "      <td>47</td>\n",
       "      <td>40</td>\n",
       "      <td>37</td>\n",
       "      <td>47</td>\n",
       "      <td>43</td>\n",
       "      <td>43</td>\n",
       "      <td>42</td>\n",
       "    </tr>\n",
       "    <tr>\n",
       "      <th>8</th>\n",
       "      <td>55</td>\n",
       "      <td>50</td>\n",
       "      <td>59</td>\n",
       "      <td>55</td>\n",
       "      <td>55</td>\n",
       "      <td>65</td>\n",
       "      <td>60</td>\n",
       "      <td>74</td>\n",
       "      <td>47</td>\n",
       "      <td>42</td>\n",
       "      <td>...</td>\n",
       "      <td>39</td>\n",
       "      <td>40</td>\n",
       "      <td>41</td>\n",
       "      <td>44</td>\n",
       "      <td>51</td>\n",
       "      <td>50</td>\n",
       "      <td>48</td>\n",
       "      <td>57</td>\n",
       "      <td>50</td>\n",
       "      <td>59</td>\n",
       "    </tr>\n",
       "    <tr>\n",
       "      <th>9</th>\n",
       "      <td>35</td>\n",
       "      <td>28</td>\n",
       "      <td>34</td>\n",
       "      <td>33</td>\n",
       "      <td>39</td>\n",
       "      <td>35</td>\n",
       "      <td>48</td>\n",
       "      <td>36</td>\n",
       "      <td>12</td>\n",
       "      <td>12</td>\n",
       "      <td>...</td>\n",
       "      <td>18</td>\n",
       "      <td>20</td>\n",
       "      <td>22</td>\n",
       "      <td>22</td>\n",
       "      <td>28</td>\n",
       "      <td>23</td>\n",
       "      <td>30</td>\n",
       "      <td>20</td>\n",
       "      <td>38</td>\n",
       "      <td>28</td>\n",
       "    </tr>\n",
       "    <tr>\n",
       "      <th>10</th>\n",
       "      <td>26</td>\n",
       "      <td>29</td>\n",
       "      <td>31</td>\n",
       "      <td>39</td>\n",
       "      <td>37</td>\n",
       "      <td>35</td>\n",
       "      <td>31</td>\n",
       "      <td>30</td>\n",
       "      <td>19</td>\n",
       "      <td>22</td>\n",
       "      <td>...</td>\n",
       "      <td>20</td>\n",
       "      <td>21</td>\n",
       "      <td>18</td>\n",
       "      <td>26</td>\n",
       "      <td>25</td>\n",
       "      <td>24</td>\n",
       "      <td>23</td>\n",
       "      <td>27</td>\n",
       "      <td>24</td>\n",
       "      <td>24</td>\n",
       "    </tr>\n",
       "    <tr>\n",
       "      <th>11</th>\n",
       "      <td>32</td>\n",
       "      <td>37</td>\n",
       "      <td>31</td>\n",
       "      <td>30</td>\n",
       "      <td>31</td>\n",
       "      <td>30</td>\n",
       "      <td>34</td>\n",
       "      <td>34</td>\n",
       "      <td>15</td>\n",
       "      <td>22</td>\n",
       "      <td>...</td>\n",
       "      <td>26</td>\n",
       "      <td>27</td>\n",
       "      <td>27</td>\n",
       "      <td>34</td>\n",
       "      <td>34</td>\n",
       "      <td>33</td>\n",
       "      <td>28</td>\n",
       "      <td>25</td>\n",
       "      <td>28</td>\n",
       "      <td>25</td>\n",
       "    </tr>\n",
       "    <tr>\n",
       "      <th>12</th>\n",
       "      <td>28</td>\n",
       "      <td>32</td>\n",
       "      <td>31</td>\n",
       "      <td>35</td>\n",
       "      <td>32</td>\n",
       "      <td>33</td>\n",
       "      <td>34</td>\n",
       "      <td>21</td>\n",
       "      <td>20</td>\n",
       "      <td>17</td>\n",
       "      <td>...</td>\n",
       "      <td>43</td>\n",
       "      <td>46</td>\n",
       "      <td>57</td>\n",
       "      <td>51</td>\n",
       "      <td>51</td>\n",
       "      <td>39</td>\n",
       "      <td>41</td>\n",
       "      <td>45</td>\n",
       "      <td>42</td>\n",
       "      <td>36</td>\n",
       "    </tr>\n",
       "  </tbody>\n",
       "</table>\n",
       "<p>12 rows × 24 columns</p>\n",
       "</div>"
      ],
      "text/plain": [
       "   rain                                     ...                                \\\n",
       "     0   1   2   3   4   5   6   7   8   9  ...  14  15  16  17   18   19  20   \n",
       "1    56  62  61  56  57  50  59  40  36  44 ...  73  78  86  79   77   85  66   \n",
       "2    43  38  42  44  49  47  56  47  30  34 ...  65  65  78  88   71   75  70   \n",
       "3    70  73  83  87  81  88  84  81  59  52 ...  82  76  89  95  103  104  74   \n",
       "4    46  45  30  38  50  60  64  60  40  34 ...  42  41  47  54   53   59  60   \n",
       "5    56  42  57  54  50  66  58  61  43  42 ...  35  40  48  47   50   49  51   \n",
       "6    60  59  61  74  65  67  73  59  57  45 ...  42  45  41  55   59   61  61   \n",
       "7    46  49  58  51  60  62  55  52  50  37 ...  37  36  41  47   40   37  47   \n",
       "8    55  50  59  55  55  65  60  74  47  42 ...  39  40  41  44   51   50  48   \n",
       "9    35  28  34  33  39  35  48  36  12  12 ...  18  20  22  22   28   23  30   \n",
       "10   26  29  31  39  37  35  31  30  19  22 ...  20  21  18  26   25   24  23   \n",
       "11   32  37  31  30  31  30  34  34  15  22 ...  26  27  27  34   34   33  28   \n",
       "12   28  32  31  35  32  33  34  21  20  17 ...  43  46  57  51   51   39  41   \n",
       "\n",
       "                \n",
       "    21  22  23  \n",
       "1   68  56  59  \n",
       "2   61  67  52  \n",
       "3   78  72  79  \n",
       "4   59  59  43  \n",
       "5   54  46  47  \n",
       "6   54  58  57  \n",
       "7   43  43  42  \n",
       "8   57  50  59  \n",
       "9   20  38  28  \n",
       "10  27  24  24  \n",
       "11  25  28  25  \n",
       "12  45  42  36  \n",
       "\n",
       "[12 rows x 24 columns]"
      ]
     },
     "execution_count": 25,
     "metadata": {},
     "output_type": "execute_result"
    }
   ],
   "source": [
    "freq_cycle.unstack()"
   ]
  },
  {
   "cell_type": "code",
   "execution_count": 26,
   "metadata": {
    "collapsed": false
   },
   "outputs": [
    {
     "data": {
      "image/png": "[encoded data removed]",
      "text/plain": [
       "<matplotlib.figure.Figure at 0x11d688390>"
      ]
     },
     "metadata": {},
     "output_type": "display_data"
    }
   ],
   "source": [
    "f = lfiles[-7]\n",
    "station = f.split('/')[-1][:-4]\n",
    "lat, lon, title = make_title(station)\n",
    "data = pd.read_csv(f, parse_dates=True, engine='python', index_col='date')\n",
    "datan = data.copy()\n",
    "datan.replace({'rain': {0: np.nan}}, inplace=True)\n",
    "# datan.dropna(inplace=True)\n",
    "# rainfall frequency per hour (count of non-zero rainfall)\n",
    "freq_cycle = datan.groupby(datan.index.hour)[['rain']].count() / len(datan.dropna()) * 100\n",
    "# rainfall average per hour\n",
    "# datann = datann.dropna()\n",
    "mean_cycle = data.groupby(data.index.hour)[['rain']].mean()\n",
    "# plots\n",
    "fig, ax1 = plt.subplots(figsize=(w,h))\n",
    "fig.subplots_adjust(right=0.85)\n",
    "ax2 = ax1.twinx()\n",
    "ax1.plot(freq_cycle, 'r', label='frequency', lw=3)\n",
    "ax2.plot(mean_cycle, 'b', label='average', lw=3)\n",
    "ax1.legend()\n",
    "ax2.legend(loc=4)\n",
    "ax1.set_ylabel('frequency (%)')\n",
    "ax2.set_ylabel('average (mm)')\n",
    "ax1.set_xlim(0,23)\n",
    "ax1.set_xlabel('hour')\n",
    "ax1.set_title(title)\n",
    "fig.savefig('./{}.png'.format(station), dpi=res)"
   ]
  },
  {
   "cell_type": "code",
   "execution_count": 27,
   "metadata": {
    "collapsed": false
   },
   "outputs": [],
   "source": [
    "freq_cycle = datan.groupby(datan.index.hour)[['rain']].count() / len(datan.dropna()) * 100"
   ]
  },
  {
   "cell_type": "code",
   "execution_count": 28,
   "metadata": {
    "collapsed": false
   },
   "outputs": [
    {
     "data": {
      "text/plain": [
       "rain    100\n",
       "dtype: float64"
      ]
     },
     "execution_count": 28,
     "metadata": {},
     "output_type": "execute_result"
    }
   ],
   "source": [
    "freq_cycle.sum()"
   ]
  },
  {
   "cell_type": "code",
   "execution_count": 29,
   "metadata": {
    "collapsed": false
   },
   "outputs": [
    {
     "data": {
      "text/plain": [
       "13236"
      ]
     },
     "execution_count": 29,
     "metadata": {},
     "output_type": "execute_result"
    }
   ],
   "source": [
    "len(datan.dropna())"
   ]
  },
  {
   "cell_type": "code",
   "execution_count": 30,
   "metadata": {
    "collapsed": true
   },
   "outputs": [],
   "source": [
    "data.quantile?"
   ]
  },
  {
   "cell_type": "code",
   "execution_count": 51,
   "metadata": {
    "collapsed": false
   },
   "outputs": [],
   "source": [
    "for f in lfiles: \n",
    "    station = f.split('/')[-1][:-4]\n",
    "    lat, lon, title = make_title(station)\n",
    "    data = pd.read_csv(f, parse_dates=True, engine='python', index_col='date')\n",
    "    datan = data.copy()\n",
    "    datan.replace({'rain': {0: np.nan}}, inplace=True)\n",
    "    datan.dropna(inplace=True)\n",
    "    \n",
    "    freq_cycle = datan.groupby(datan.index.hour)[['rain']].count() / len(datan.dropna()) * 100\n",
    "    freq_cycle_f = harmo(freq_cycle)\n",
    "    # rainfall average per hour\n",
    "    datann = datan.dropna()\n",
    "    mean_cycle = datann.groupby(datann.index.hour)[['rain']].mean()\n",
    "    mean_cycle_f = harmo(mean_cycle)\n",
    "    # plots\n",
    "    fig, ax1 = plt.subplots(figsize=(w,h))\n",
    "    fig.subplots_adjust(right=0.85)\n",
    "    ax2 = ax1.twinx()\n",
    "    ax1.plot(freq_cycle_f, 'r', label='frequency', lw=3)\n",
    "    ax2.plot(mean_cycle_f, 'b', label='intensity', lw=3)\n",
    "    ax1.plot(freq_cycle, 'r--', lw=1)\n",
    "    ax2.plot(mean_cycle, 'b--', lw=1)\n",
    "    \n",
    "    \n",
    "\n",
    "    ax1.legend()\n",
    "    ax2.legend(loc=4)\n",
    "    ax1.set_ylabel('frequency')\n",
    "    ax2.set_ylabel('average')\n",
    "    ax1.set_xlim(0,23)\n",
    "    ax1.set_xlabel('hour')\n",
    "    ax1.set_title(title)\n",
    "    fig.savefig('../www/{}.png'.format(station), dpi=res)\n",
    "    plt.close(fig)"
   ]
  },
  {
   "cell_type": "markdown",
   "metadata": {},
   "source": [
    "### maps"
   ]
  },
  {
   "cell_type": "code",
   "execution_count": 32,
   "metadata": {
    "collapsed": false
   },
   "outputs": [
    {
     "name": "stdout",
     "output_type": "stream",
     "text": [
      "0.2.0\n"
     ]
    }
   ],
   "source": [
    "import folium\n",
    "print (folium.__version__)"
   ]
  },
  {
   "cell_type": "code",
   "execution_count": 33,
   "metadata": {
    "collapsed": true
   },
   "outputs": [],
   "source": [
    "m = folium.Map(location=[-21, 166.4580], zoom_start=8, tiles='Mapbox', API_key='nicolasf.ic0ebom5')"
   ]
  },
  {
   "cell_type": "code",
   "execution_count": 34,
   "metadata": {
    "collapsed": true
   },
   "outputs": [],
   "source": [
    "# root_url = \"https://cdn.rawgit.com/nicolasfauchereau/PLUVAR/master/www\"\n",
    "root_url = \"https://raw.githubusercontent.com/nicolasfauchereau/PLUVAR/master/www\""
   ]
  },
  {
   "cell_type": "code",
   "execution_count": 35,
   "metadata": {
    "collapsed": false
   },
   "outputs": [],
   "source": [
    "# for f in lfiles: \n",
    "#     station = f.split('/')[-1][:-4]\n",
    "#     fname = './{}.png'.format(station)\n",
    "#     lat, lon, title = make_title(station)\n",
    "    \n",
    "#     html=\"\"\"<img src='{}/{}.png'>\"\"\".format(root_url, station)\n",
    "    \n",
    "#     iframe = folium.element.IFrame(html=html, width=500, height=350)\n",
    "    \n",
    "#     popup = folium.Popup(iframe, max_width=600)\n",
    "\n",
    "#     folium.Marker([lat, lon], popup=popup).add_to(m)"
   ]
  },
  {
   "cell_type": "code",
   "execution_count": 36,
   "metadata": {
    "collapsed": false
   },
   "outputs": [],
   "source": [
    "for f in lfiles: \n",
    "    station = f.split('/')[-1][:-4]\n",
    "    \n",
    "    lat, lon, title = make_title(station)\n",
    "    \n",
    "    html=\"\"\"<img src='{}/{}.png'>\"\"\".format(root_url, station)\n",
    "    \n",
    "    iframe = folium.element.IFrame(html=html, width=500, height=350)\n",
    "    \n",
    "    popup = folium.Popup(iframe, max_width=600)\n",
    "    \n",
    "    c = folium.CircleMarker(location=[lat, lon], popup=popup, color='#FF0000', fill_color='#FF0000', fill_opacity=0.5, radius=2500)\n",
    "\n",
    "    m.add_children(c)"
   ]
  },
  {
   "cell_type": "code",
   "execution_count": 37,
   "metadata": {
    "collapsed": false
   },
   "outputs": [
    {
     "data": {
      "text/html": [
       "<div style=\"width:100%;\"><div style=\"position:relative;width:100%;height:0;padding-bottom:60%;\"><iframe src=\"data:text/html;base64,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\" style=\"position:absolute;width:100%;height:100%;left:0;top:0;\"></iframe></div></div>"
      ],
      "text/plain": [
       "<folium.folium.Map at 0x11df5ed68>"
      ]
     },
     "execution_count": 37,
     "metadata": {},
     "output_type": "execute_result"
    }
   ],
   "source": [
    "m"
   ]
  },
  {
   "cell_type": "code",
   "execution_count": 38,
   "metadata": {
    "collapsed": true
   },
   "outputs": [],
   "source": [
    "m.save('../www/index.html')"
   ]
  },
  {
   "cell_type": "code",
   "execution_count": 39,
   "metadata": {
    "collapsed": false
   },
   "outputs": [],
   "source": [
    "m.save('../www/map.html')"
   ]
  },
  {
   "cell_type": "code",
   "execution_count": 52,
   "metadata": {
    "collapsed": true
   },
   "outputs": [],
   "source": [
    "!open ../www/"
   ]
  },
  {
   "cell_type": "code",
   "execution_count": null,
   "metadata": {
    "collapsed": true
   },
   "outputs": [],
   "source": []
  }
 ],
 "metadata": {
  "kernelspec": {
   "display_name": "Python 3",
   "language": "python",
   "name": "python3"
  },
  "language_info": {
   "codemirror_mode": {
    "name": "ipython",
    "version": 3
   },
   "file_extension": ".py",
   "mimetype": "text/x-python",
   "name": "python",
   "nbconvert_exporter": "python",
   "pygments_lexer": "ipython3",
   "version": "3.5.1"
  }
 },
 "nbformat": 4,
 "nbformat_minor": 0
}
